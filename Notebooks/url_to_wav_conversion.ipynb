{
  "nbformat": 4,
  "nbformat_minor": 0,
  "metadata": {
    "colab": {
      "provenance": []
    },
    "kernelspec": {
      "name": "python3",
      "display_name": "Python 3"
    },
    "language_info": {
      "name": "python"
    }
  },
  "cells": [
    {
      "cell_type": "markdown",
      "source": [
        "# url to wav conversion pipeline"
      ],
      "metadata": {
        "id": "f7TRm7Jr0Scq"
      }
    },
    {
      "cell_type": "code",
      "source": [
        "!sudo apt-get install ffmpeg\n"
      ],
      "metadata": {
        "id": "cGbAiTK40aUt"
      },
      "execution_count": null,
      "outputs": []
    },
    {
      "cell_type": "code",
      "source": [
        "#dependencies\n",
        "!pip install youtube-dl pytube pydub moviepy"
      ],
      "metadata": {
        "id": "ODMY3oX10Rex"
      },
      "execution_count": null,
      "outputs": []
    },
    {
      "cell_type": "code",
      "source": [
        "def download_video(url,output_path = \"\"):\n",
        "  try:\n",
        "        # Create YouTube object\n",
        "        yt = YouTube(url)\n",
        "\n",
        "        # Get the highest resolution audio stream\n",
        "        audio_stream = yt.streams.filter(only_audio=True).first()\n",
        "\n",
        "        # Set the output path (default is 'downloads' folder)\n",
        "        audio_stream.download(output_path)\n",
        "\n",
        "        print(f\"Audio downloaded successfully to {output_path}/{yt.title}.mp3\")\n",
        "\n",
        "        return yt.title\n",
        "\n",
        "  except Exception as e:\n",
        "        print(f\"Error: {str(e)}\")"
      ],
      "metadata": {
        "id": "W4C2Qj3T0mnQ"
      },
      "execution_count": null,
      "outputs": []
    },
    {
      "cell_type": "code",
      "source": [
        "url = \"https://youtu.be/zZ5QzR4Nk18?si=vfdoZ22wszkNJC-q\""
      ],
      "metadata": {
        "id": "dRw_tV6n15xX"
      },
      "execution_count": null,
      "outputs": []
    },
    {
      "cell_type": "code",
      "source": [
        "input_str = download_video(url)"
      ],
      "metadata": {
        "colab": {
          "base_uri": "https://localhost:8080/"
        },
        "id": "Bddfm8qO1K79",
        "outputId": "1dcdf2da-354b-4878-be67-687dff308228"
      },
      "execution_count": null,
      "outputs": [
        {
          "output_type": "stream",
          "name": "stdout",
          "text": [
            "Audio downloaded successfully to /Bawra Mann (Cover by Darshana Rajendran).mp3\n"
          ]
        }
      ]
    },
    {
      "cell_type": "code",
      "source": [
        "from moviepy.editor import *\n",
        "\n",
        "def MP4ToMP3(mp4, mp3):\n",
        "    FILETOCONVERT = AudioFileClip(mp4)\n",
        "    FILETOCONVERT.write_audiofile(mp3)\n",
        "    FILETOCONVERT.close()\n",
        "\n",
        "VIDEO_FILE_PATH = str(input_str) + \".mp4\"\n",
        "AUDIO_FILE_PATH = \"hello.mp3\"\n",
        "\n",
        "MP4ToMP3(VIDEO_FILE_PATH, AUDIO_FILE_PATH)"
      ],
      "metadata": {
        "colab": {
          "base_uri": "https://localhost:8080/"
        },
        "id": "c3Q7RMly1Z3H",
        "outputId": "25473287-72c3-472d-d2fa-35462e5f3499"
      },
      "execution_count": null,
      "outputs": [
        {
          "output_type": "stream",
          "name": "stdout",
          "text": [
            "MoviePy - Writing audio in hello.mp3\n"
          ]
        },
        {
          "output_type": "stream",
          "name": "stderr",
          "text": [
            "                                                                     "
          ]
        },
        {
          "output_type": "stream",
          "name": "stdout",
          "text": [
            "MoviePy - Done.\n"
          ]
        },
        {
          "output_type": "stream",
          "name": "stderr",
          "text": [
            "\r"
          ]
        }
      ]
    },
    {
      "cell_type": "code",
      "source": [
        "\n",
        "# import required modules\n",
        "from os import path\n",
        "from pydub import AudioSegment\n",
        "\n",
        "# assign files\n",
        "input_file = \"hello.mp3\"\n",
        "output_file = \"result.wav\"\n",
        "\n",
        "# convert mp3 file to wav file\n",
        "sound = AudioSegment.from_mp3(input_file)\n",
        "sound.export(output_file, format=\"wav\")\n"
      ],
      "metadata": {
        "colab": {
          "base_uri": "https://localhost:8080/"
        },
        "id": "LVSKUUup1yqR",
        "outputId": "ebeafbd8-5866-4528-c5f7-8b74b8ce34c0"
      },
      "execution_count": null,
      "outputs": [
        {
          "output_type": "execute_result",
          "data": {
            "text/plain": [
              "<_io.BufferedRandom name='result.wav'>"
            ]
          },
          "metadata": {},
          "execution_count": 32
        }
      ]
    },
    {
      "cell_type": "code",
      "source": [],
      "metadata": {
        "id": "TS4h_7La1qvg"
      },
      "execution_count": null,
      "outputs": []
    },
    {
      "cell_type": "code",
      "source": [],
      "metadata": {
        "id": "u6YGpGEr08rV"
      },
      "execution_count": null,
      "outputs": []
    }
  ]
}